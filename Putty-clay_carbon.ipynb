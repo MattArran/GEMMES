{
 "cells": [
  {
   "cell_type": "markdown",
   "id": "e0ab4043",
   "metadata": {},
   "source": [
    "# Putty-Clay dynamics of carbon intensity\n",
    "\n",
    "## Model\n",
    "\n",
    "Consider an economy with a single good, used w.l.o.g. as numeraire and produced using a range of technologies, indexed by the ratio $k$ between their capital cost and the lifetime-averaged annual CO$_2$ emissions associated with their use. Let $f(k)$ be the quantity of goods produced by technology $k$ for each tonne of CO$_2$ emitted, with $f(k)$ monotonically increasing (more expensive technologies are more productive) but $f(k) / k$ monotonically decreasing (greener technologies are more expensive). Suppose that labor productivity $a$ is constant, with uniform wages $w$, and that a government imposes a maximum carbon intensity of production, by permitting utilisation only of technologies with $k>k_{min}$, and a per-tonne emissions tax $c$. Suppose further that firms choose utilisation rates and employment to maximise profits and invest to maximise expected returns. Finally, assume all wage payments and carbon tax revenue is consumed and that all profits are reinvested.\n",
    "\n",
    "A firm utilising technology $k$ with $l$ employees will earn profits per tonne of emissions $\\max(f(k), al)(1 - c / f(k)) - wl$. "
   ]
  },
  {
   "cell_type": "code",
   "execution_count": null,
   "id": "e5dbe48c",
   "metadata": {},
   "outputs": [],
   "source": []
  }
 ],
 "metadata": {
  "kernelspec": {
   "display_name": "Python 3",
   "language": "python",
   "name": "python3"
  },
  "language_info": {
   "codemirror_mode": {
    "name": "ipython",
    "version": 3
   },
   "file_extension": ".py",
   "mimetype": "text/x-python",
   "name": "python",
   "nbconvert_exporter": "python",
   "pygments_lexer": "ipython3",
   "version": "3.8.8"
  }
 },
 "nbformat": 4,
 "nbformat_minor": 5
}
